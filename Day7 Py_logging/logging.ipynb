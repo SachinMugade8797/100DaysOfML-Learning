{
 "cells": [
  {
   "cell_type": "code",
   "execution_count": 4,
   "id": "76937509",
   "metadata": {},
   "outputs": [
    {
     "name": "stderr",
     "output_type": "stream",
     "text": [
      "DEBUG:root:This is a debug message\n",
      "INFO:root:This is an info message\n",
      "WARNING:root:This is a warning message\n",
      "ERROR:root:This is an error message\n",
      "CRITICAL:root:This is a critical message\n"
     ]
    }
   ],
   "source": [
    "import logging\n",
    "\n",
    "## configure the basic logging settings\n",
    "logging.basicConfig(level=logging.DEBUG)\n",
    "\n",
    "## log messages\n",
    "logging.debug(\"This is a debug message\")\n",
    "logging.info(\"This is an info message\")\n",
    "logging.warning(\"This is a warning message\")\n",
    "logging.error(\"This is an error message\")\n",
    "logging.critical(\"This is a critical message\")\n"
   ]
  },
  {
   "cell_type": "code",
   "execution_count": 5,
   "id": "bdab0b06",
   "metadata": {},
   "outputs": [
    {
     "data": {
      "text/plain": [
       "\"\\nLog Levels\\npython logging module has several log level indicating the severity of events.the default levels are:\\n1. DEBUG : Detailed information, typically of interest only when diagnosing problems.\\n2. INFO : Confirmation that things are working as expected\\n3. WARNING : An indication that something unexpected happened or indicative of some problem in the near\\n            future (e.g, 'disc space low') The software is still working as expected.\\n4. ERROR : Due to a more serious problem, the software has not been able to perform some function.\\n5. CRITICAL : A very serious error, indicating that the program itself may be unable to continue running.\\n\\n\""
      ]
     },
     "execution_count": 5,
     "metadata": {},
     "output_type": "execute_result"
    }
   ],
   "source": [
    "'''\n",
    "Log Levels\n",
    "python logging module has several log level indicating the severity of events.the default levels are:\n",
    "1. DEBUG : Detailed information, typically of interest only when diagnosing problems.\n",
    "2. INFO : Confirmation that things are working as expected\n",
    "3. WARNING : An indication that something unexpected happened or indicative of some problem in the near\n",
    "            future (e.g, 'disc space low') The software is still working as expected.\n",
    "4. ERROR : Due to a more serious problem, the software has not been able to perform some function.\n",
    "5. CRITICAL : A very serious error, indicating that the program itself may be unable to continue running.\n",
    "\n",
    "'''"
   ]
  },
  {
   "cell_type": "code",
   "execution_count": 1,
   "id": "be7dbb50",
   "metadata": {},
   "outputs": [],
   "source": [
    "import logging\n",
    "\n",
    "logging.basicConfig(\n",
    "    filename='app.log',\n",
    "    filemode='w',\n",
    "    level=logging.DEBUG,\n",
    "    format='%(asctime)s - %(name)s - %(levelname)s - %(message)s',\n",
    "    datefmt='%Y-%m-%d %H:%M:%S'\n",
    ")\n",
    "\n",
    "logging.debug(\"This is a debug message\")\n",
    "logging.info(\"This is an info message\")\n",
    "logging.warning(\"This is a warning message\")\n",
    "logging.error(\"This is an error message\")\n",
    "logging.critical(\"This is a critical message\")\n"
   ]
  },
  {
   "cell_type": "code",
   "execution_count": null,
   "id": "78d41ed2",
   "metadata": {},
   "outputs": [],
   "source": []
  }
 ],
 "metadata": {
  "kernelspec": {
   "display_name": "venv",
   "language": "python",
   "name": "python3"
  },
  "language_info": {
   "codemirror_mode": {
    "name": "ipython",
    "version": 3
   },
   "file_extension": ".py",
   "mimetype": "text/x-python",
   "name": "python",
   "nbconvert_exporter": "python",
   "pygments_lexer": "ipython3",
   "version": "3.12.5"
  }
 },
 "nbformat": 4,
 "nbformat_minor": 5
}
