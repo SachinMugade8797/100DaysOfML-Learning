{
 "cells": [
  {
   "cell_type": "code",
   "execution_count": 25,
   "id": "5013571a",
   "metadata": {},
   "outputs": [],
   "source": [
    "# Lesson 1: Array "
   ]
  },
  {
   "cell_type": "code",
   "execution_count": 1,
   "id": "546bdd01",
   "metadata": {},
   "outputs": [],
   "source": [
    "import numpy as np"
   ]
  },
  {
   "cell_type": "code",
   "execution_count": null,
   "id": "7bb41c35",
   "metadata": {},
   "outputs": [
    {
     "name": "stdout",
     "output_type": "stream",
     "text": [
      "1D : [1 2 3]\n",
      "2D :\n",
      " [[1 2]\n",
      " [3 4]]\n",
      "3D :\n",
      " [[1]\n",
      " [2]\n",
      " [3]\n",
      " [4]]\n"
     ]
    }
   ],
   "source": [
    "## creation of array \n",
    "a = np.array([1,2,3])\n",
    "b = np.array([[1,2],[3,4]])\n",
    "c = np.array([[1],[2],[3],[4]])\n",
    "\n",
    "print(\"1D :\",a)\n",
    "print(\"2D :\\n\",b)\n",
    "print(\"3D :\\n\",c)"
   ]
  },
  {
   "cell_type": "code",
   "execution_count": 9,
   "id": "4869a23a",
   "metadata": {},
   "outputs": [
    {
     "name": "stdout",
     "output_type": "stream",
     "text": [
      "Arange : [0 2 4 6 8]\n"
     ]
    }
   ],
   "source": [
    "## Use arange -- like python range()\n",
    "arr = np.arange(0,10,2)  # start=0, stop<10, step=2\n",
    "print(\"Arange :\",arr)"
   ]
  },
  {
   "cell_type": "code",
   "execution_count": 14,
   "id": "c61c87de",
   "metadata": {},
   "outputs": [
    {
     "name": "stdout",
     "output_type": "stream",
     "text": [
      "linespace : [0.   0.25 0.5  0.75 1.  ]\n"
     ]
    }
   ],
   "source": [
    "arr = np.linspace(0,1,5) # 5 points between 0 to 1\n",
    "print(\"linespace :\",arr)"
   ]
  },
  {
   "cell_type": "code",
   "execution_count": null,
   "id": "f0584637",
   "metadata": {},
   "outputs": [
    {
     "name": "stdout",
     "output_type": "stream",
     "text": [
      "Zeros:\n",
      " [[0. 0. 0.]\n",
      " [0. 0. 0.]]\n",
      "Onces:\n",
      " [[1. 1. 1.]\n",
      " [1. 1. 1.]]\n",
      "Full:\n",
      " [[7 7 7]\n",
      " [7 7 7]]\n",
      "Eye (Identity):\n",
      " [[1. 0. 0.]\n",
      " [0. 1. 0.]\n",
      " [0. 0. 1.]]\n"
     ]
    }
   ],
   "source": [
    "## Special array\n",
    "print(\"Zeros:\\n\",np.zeros((2,3)))   # 2 row 3 columns\n",
    "print(\"Onces:\\n\",np.ones((2,3)))\n",
    "print(\"Full:\\n\",np.full((2,3),7))   # 2 row 3 columns value=7\n",
    "print(\"Eye (Identity):\\n\",np.eye(3))    # digonal values are 1\n"
   ]
  },
  {
   "cell_type": "code",
   "execution_count": 24,
   "id": "5a2f2334",
   "metadata": {},
   "outputs": [
    {
     "name": "stdout",
     "output_type": "stream",
     "text": [
      "dtype: [1 2]\n",
      "type of array: <class 'numpy.ndarray'>\n",
      "Array dtype: int64\n"
     ]
    }
   ],
   "source": [
    "arr = np.array([1.5,2.5], dtype=int)\n",
    "print(\"dtype:\",arr)\n",
    "print(\"type of array:\",type(arr))\n",
    "print(\"Array dtype:\",arr.dtype)"
   ]
  },
  {
   "cell_type": "code",
   "execution_count": 26,
   "id": "1e9abb56",
   "metadata": {},
   "outputs": [],
   "source": [
    "##  Lesson 2: Array Shape & Reshape"
   ]
  },
  {
   "cell_type": "code",
   "execution_count": null,
   "id": "06cf49b3",
   "metadata": {},
   "outputs": [
    {
     "name": "stdout",
     "output_type": "stream",
     "text": [
      "Array:\n",
      " [[1 2 3]\n",
      " [4 5 6]]\n",
      "Shape: (2, 3)\n"
     ]
    }
   ],
   "source": [
    "import numpy as np\n",
    "\n",
    "arr = np.array([[1,2,3],[4,5,6]])\n",
    "print(\"Array:\\n\",arr)\n",
    "print(\"Shape:\",arr.shape)   # (2, 3) → 2 rows, 3 columns"
   ]
  },
  {
   "cell_type": "code",
   "execution_count": 31,
   "id": "ce130426",
   "metadata": {},
   "outputs": [
    {
     "name": "stdout",
     "output_type": "stream",
     "text": [
      "Reshaped (3x2):\n",
      " [[1 2]\n",
      " [3 4]\n",
      " [5 6]]\n"
     ]
    }
   ],
   "source": [
    "## .reshape() for change shape\n",
    "reshaped = arr.reshape(3, 2)\n",
    "print(\"Reshaped (3x2):\\n\", reshaped)\n",
    "\n",
    "\n",
    "# Total elements must remain the same!\n",
    "# (2×3 = 3×2 = 6 elements)"
   ]
  },
  {
   "cell_type": "code",
   "execution_count": null,
   "id": "2968adbc",
   "metadata": {},
   "outputs": [
    {
     "name": "stdout",
     "output_type": "stream",
     "text": [
      "Reshape with -1\n",
      " [[1]\n",
      " [2]\n",
      " [3]\n",
      " [4]\n",
      " [5]\n",
      " [6]]\n",
      "Reshape with -1,2\n",
      " [[1 2]\n",
      " [3 4]\n",
      " [5 6]]\n"
     ]
    }
   ],
   "source": [
    "#  Use -1 to auto-infer shape\n",
    "\n",
    "auto_shape = arr.reshape(-1,1) # Auto decide rows/cols\n",
    "print(\"Reshape with -1\\n\",auto_shape)\n",
    "\n",
    "## here we given -1,1 it gives 1 row and 1 column reshaped array\n",
    "\n",
    "auto_shape = arr.reshape(-1,2)\n",
    "print(\"Reshape with -1,2\\n\",auto_shape)\n",
    "\n",
    "#  NumPy sees 6 elements, and you gave 2 columns → it calculates 3 rows automatically"
   ]
  },
  {
   "cell_type": "code",
   "execution_count": null,
   "id": "dfa326ee",
   "metadata": {},
   "outputs": [
    {
     "name": "stdout",
     "output_type": "stream",
     "text": [
      "Flatten(): [10 20 30 40]\n",
      "[1 2 3 4]\n",
      "Original b:\n",
      " [[1 2]\n",
      " [3 4]]\n",
      "Changed:\n",
      " [100   2   3   4]\n"
     ]
    }
   ],
   "source": [
    "# Flatten the Array – .ravel() vs .flatten()\n",
    "\n",
    "# .flatten()\n",
    "\n",
    "# Converts any shape array to a 1D array\n",
    "# Returns a new copy of the data (independent of original)\n",
    "# Example 1\n",
    "a = np.array([[10,20],[30,40]])\n",
    "print(\"Flatten():\",a.flatten())  # Returns a copy\n",
    "\n",
    "# Example 2\n",
    "b = np.array([[1, 2], [3, 4]])\n",
    "\n",
    "flat = b.flatten()\n",
    "print(flat)  # [1 2 3 4]\n",
    "\n",
    "flat[0] = 100\n",
    "print(\"Original b:\\n\", b)  # Original unchanged\n",
    "\n",
    "print(\"Changed:\\n\",flat)\n"
   ]
  },
  {
   "cell_type": "code",
   "execution_count": 44,
   "id": "57836b9e",
   "metadata": {},
   "outputs": [
    {
     "name": "stdout",
     "output_type": "stream",
     "text": [
      "Original b after ravel change:\n",
      " [[100   2]\n",
      " [  3   4]]\n"
     ]
    }
   ],
   "source": [
    "# Also flattens the array to 1D\n",
    "# But returns a view, not a copy → changes affect the original\n",
    "\n",
    "b = np.array([[1, 2], [3, 4]])\n",
    "\n",
    "r = b.ravel()\n",
    "r[0] = 100\n",
    "print(\"Original b after ravel change:\\n\", b)\n"
   ]
  },
  {
   "cell_type": "code",
   "execution_count": 40,
   "id": "c1afaf1c",
   "metadata": {},
   "outputs": [
    {
     "name": "stdout",
     "output_type": "stream",
     "text": [
      "Original:\n",
      " [[1 2 3]\n",
      " [4 5 6]]\n",
      "Transpose:\n",
      " [[1 4]\n",
      " [2 5]\n",
      " [3 6]]\n"
     ]
    }
   ],
   "source": [
    "# Transpose with .T\n",
    "\n",
    "print(\"Original:\\n\",arr)\n",
    "print(\"Transpose:\\n\",arr.T)"
   ]
  },
  {
   "cell_type": "code",
   "execution_count": 47,
   "metadata": {},
   "outputs": [
    {
     "name": "stdout",
     "output_type": "stream",
     "text": [
      "a[0]: 10\n",
      "a[-1]: 50\n"
     ]
    }
   ],
   "source": [
    "# Lesson 3: Indexing, Slicing & Masking\n",
    "\n",
    "import numpy as np\n",
    "\n",
    "a = np.array([10,20,30,40,50])\n",
    "print(\"a[0]:\",a[0])\n",
    "print(\"a[-1]:\",a[-1])"
   ]
  },
  {
   "cell_type": "code",
   "execution_count": null,
   "id": "47af09b3",
   "metadata": {},
   "outputs": [
    {
     "name": "stdout",
     "output_type": "stream",
     "text": [
      "b[0,1] 2\n",
      "n[1][2]: 6\n"
     ]
    }
   ],
   "source": [
    "b = np.array([[1,2,3],[4,5,6]])\n",
    "\n",
    "print(\"b[0,1]\",b[0,1])          # index+1 = row,index+1 = column\n",
    "print(\"n[1][2]:\",b[1][2])       "
   ]
  },
  {
   "cell_type": "code",
   "execution_count": null,
   "id": "bb275856",
   "metadata": {},
   "outputs": [
    {
     "name": "stdout",
     "output_type": "stream",
     "text": [
      "[20 30 40]\n",
      "[10 20 30]\n",
      "[10 30 50]\n"
     ]
    }
   ],
   "source": [
    "# Slicingd\n",
    "# 1D array\n",
    "\n",
    "print(a[1:4])     # [20 30 40]  # not include 4th index\n",
    "print(a[:3])      # [10 20 30]  # assume starting = 0\n",
    "print(a[::2])     # [10 30 50] (step=2) assume star = 0, end = len\n"
   ]
  },
  {
   "cell_type": "code",
   "execution_count": null,
   "id": "842f7019",
   "metadata": {},
   "outputs": [
    {
     "name": "stdout",
     "output_type": "stream",
     "text": [
      "[2 5]\n",
      "[4 5 6]\n",
      "[[2 3]\n",
      " [5 6]]\n"
     ]
    }
   ],
   "source": [
    "# 2D array Slicing\n",
    "# array[row_start:row_end, col_start:col_end]\n",
    "\n",
    "print(b[:, 1])    # [2 5] → all rows, column index 1\n",
    "print(b[1, :])    # [4 5 6] → row index 1, all columns\n",
    "print(b[0:2, 1:3])# submatrix\n"
   ]
  },
  {
   "cell_type": "code",
   "execution_count": null,
   "id": "7b90d505",
   "metadata": {},
   "outputs": [
    {
     "name": "stdout",
     "output_type": "stream",
     "text": [
      "[False False False  True  True]\n",
      "[25 30]\n"
     ]
    }
   ],
   "source": [
    "# Boolean Indexing (Filtering with Conditions)\n",
    "\n",
    "arr = np.array([10,15,20,25,30])\n",
    "print(arr>20)   # return boolean\n",
    "print(arr[arr>20])  # return values"
   ]
  },
  {
   "cell_type": "code",
   "execution_count": 52,
   "id": "e8b92fb5",
   "metadata": {},
   "outputs": [
    {
     "name": "stdout",
     "output_type": "stream",
     "text": [
      "[ 10  15  20 100 100]\n"
     ]
    }
   ],
   "source": [
    "#  Conditional Replacement\n",
    "\n",
    "arr[arr>20] = 100\n",
    "print(arr)"
   ]
  },
  {
   "cell_type": "code",
   "execution_count": 53,
   "id": "0fd3b6a2",
   "metadata": {},
   "outputs": [
    {
     "name": "stdout",
     "output_type": "stream",
     "text": [
      "[10 20]\n"
     ]
    }
   ],
   "source": [
    "# Fancy Indexing (Give a list of indexes)\n",
    "\n",
    "a = np.array([5,10,15,20,25])\n",
    "print(a[[1,3]])"
   ]
  },
  {
   "cell_type": "code",
   "execution_count": 55,
   "id": "f23721da",
   "metadata": {},
   "outputs": [
    {
     "name": "stdout",
     "output_type": "stream",
     "text": [
      "Add: [5 7 9]\n",
      "Substraction: [-3 -3 -3]\n",
      "Multiplication: [ 4 10 18]\n",
      "Divide: [4.  2.5 2. ]\n"
     ]
    }
   ],
   "source": [
    "#  Lesson 4: NumPy Arithmetic & Broadcasting\n",
    "import numpy as np\n",
    "\n",
    "a = np.array([1,2,3])\n",
    "b = np.array([4,5,6])\n",
    "\n",
    "print(\"Add:\",a+b)\n",
    "print(\"Substraction:\",a-b)\n",
    "print(\"Multiplication:\",a*b)\n",
    "print(\"Divide:\",b/a)"
   ]
  },
  {
   "cell_type": "code",
   "execution_count": null,
   "id": "30af2e11",
   "metadata": {},
   "outputs": [
    {
     "name": "stdout",
     "output_type": "stream",
     "text": [
      "[11 12 13]\n"
     ]
    }
   ],
   "source": [
    "'''2. Broadcasting (Different Shapes)\n",
    "Broadcasting means NumPy can stretch smaller arrays to match bigger ones without copying data.\n",
    "\n",
    " Simple Rule:\n",
    "Smaller array shape is matched from the right side.'''\n",
    "\n",
    "# 1: Add scalar to array\n",
    "\n",
    "a = np.array([1,2,3])\n",
    "print(a+10)     # here +10 is stretched → [10, 10, 10]\n"
   ]
  },
  {
   "cell_type": "code",
   "execution_count": 58,
   "id": "8f661109",
   "metadata": {},
   "outputs": [
    {
     "name": "stdout",
     "output_type": "stream",
     "text": [
      "[[11 22 33]\n",
      " [14 25 36]]\n"
     ]
    }
   ],
   "source": [
    "# 2: Add 1D row to 2D matrix (broadcast column-wise)\n",
    "\n",
    "A = np.array([[1,2,3],[4,5,6]])\n",
    "B = np.array([10,20,30])\n",
    "print(A + B)"
   ]
  },
  {
   "cell_type": "code",
   "execution_count": 59,
   "id": "b38f129b",
   "metadata": {},
   "outputs": [
    {
     "name": "stdout",
     "output_type": "stream",
     "text": [
      "[[11 12 13]\n",
      " [24 25 26]]\n"
     ]
    }
   ],
   "source": [
    "# 3: Add column to 2D matrix (broadcast row-wise)\n",
    "\n",
    "A = np.array([[1, 2, 3],\n",
    "              [4, 5, 6]])\n",
    "\n",
    "B = np.array([[10],\n",
    "              [20]])\n",
    "\n",
    "print(A + B)\n"
   ]
  },
  {
   "cell_type": "code",
   "execution_count": 60,
   "id": "2283cc0f",
   "metadata": {},
   "outputs": [
    {
     "name": "stdout",
     "output_type": "stream",
     "text": [
      "[False False False False]\n",
      "[False False  True False]\n"
     ]
    }
   ],
   "source": [
    "# 3. Comparison Operator\n",
    "\n",
    "a = np.array([1,2,3,4])\n",
    "print(a>4)\n",
    "print(a==3)\n"
   ]
  },
  {
   "cell_type": "code",
   "execution_count": null,
   "id": "7d050557",
   "metadata": {},
   "outputs": [
    {
     "name": "stdout",
     "output_type": "stream",
     "text": [
      "sqrt: [1. 2. 3.]\n",
      "exp: [2.71828183e+00 5.45981500e+01 8.10308393e+03]\n",
      "log: [0.         1.38629436 2.19722458]\n"
     ]
    }
   ],
   "source": [
    "# 4. Math Functions (Element-wise)\n",
    "\n",
    "a = np.array([1, 4, 9])\n",
    "\n",
    "print(\"sqrt:\", np.sqrt(a))       \n",
    "print(\"exp:\", np.exp(a))          \n",
    "print(\"log:\", np.log(a))          \n",
    "\n"
   ]
  },
  {
   "cell_type": "code",
   "execution_count": 62,
   "id": "2b4b5c57",
   "metadata": {},
   "outputs": [
    {
     "name": "stdout",
     "output_type": "stream",
     "text": [
      "Sum all: 21\n",
      "Sum row-wise: [ 6 15]\n",
      "Sum col-wise: [5 7 9]\n"
     ]
    }
   ],
   "source": [
    "# 5. Aggregate Functions\n",
    "\n",
    "a = np.array([[1, 2, 3],\n",
    "              [4, 5, 6]])\n",
    "\n",
    "print(\"Sum all:\", np.sum(a))                 # 21\n",
    "print(\"Sum row-wise:\", np.sum(a, axis=1))    # [6, 15]\n",
    "print(\"Sum col-wise:\", np.sum(a, axis=0))    # [5, 7, 9]\n"
   ]
  },
  {
   "cell_type": "code",
   "execution_count": 63,
   "id": "6447c37e",
   "metadata": {},
   "outputs": [
    {
     "name": "stdout",
     "output_type": "stream",
     "text": [
      "Mean: 3.0\n",
      "Median: 3.0\n",
      "Std Dev: 1.4142135623730951\n",
      "Variance: 2.0\n",
      "Min: 1\n",
      "Max: 5\n"
     ]
    }
   ],
   "source": [
    "# Lesson 5: Descriptive Statistics in NumPy\n",
    "\n",
    "import numpy as np\n",
    "\n",
    "a = np.array([1, 2, 3, 4, 5])\n",
    "print(\"Mean:\", np.mean(a))  # Output: 3.0\n",
    "\n",
    "print(\"Median:\", np.median(a))  # Output: 3.0\n",
    "\n",
    "print(\"Std Dev:\", np.std(a))  # Output: ~1.41\n",
    "\n",
    "print(\"Variance:\", np.var(a))  # Output: ~2.0\n",
    "\n",
    "print(\"Min:\", np.min(a))      # 1\n",
    "print(\"Max:\", np.max(a))      # 5\n"
   ]
  },
  {
   "cell_type": "code",
   "execution_count": 64,
   "id": "6682f59c",
   "metadata": {},
   "outputs": [
    {
     "name": "stdout",
     "output_type": "stream",
     "text": [
      "Argmin: 0\n",
      "Argmax: 4\n"
     ]
    }
   ],
   "source": [
    "#  6. Index of Min/Max — np.argmin() & np.argmax()\n",
    "print(\"Argmin:\", np.argmin(a))  # Index of smallest element → 0\n",
    "print(\"Argmax:\", np.argmax(a))  # Index of largest element → 4\n"
   ]
  },
  {
   "cell_type": "code",
   "execution_count": 65,
   "id": "b418e2c4",
   "metadata": {},
   "outputs": [
    {
     "name": "stdout",
     "output_type": "stream",
     "text": [
      "Mean (row-wise): [2. 5.]\n",
      "Mean (col-wise): [2.5 3.5 4.5]\n"
     ]
    }
   ],
   "source": [
    "# 7. Axis-wise Stats for 2D Arrays\n",
    "b = np.array([[1, 2, 3],\n",
    "              [4, 5, 6]])\n",
    "\n",
    "print(\"Mean (row-wise):\", np.mean(b, axis=1))  # [2.0, 5.0]\n",
    "print(\"Mean (col-wise):\", np.mean(b, axis=0))  # [2.5, 3.5, 4.5]\n"
   ]
  },
  {
   "cell_type": "code",
   "execution_count": 67,
   "id": "f5fd7986",
   "metadata": {},
   "outputs": [
    {
     "name": "stdout",
     "output_type": "stream",
     "text": [
      "Random Integers:\n",
      " [[8 6 7]\n",
      " [9 3 3]]\n"
     ]
    }
   ],
   "source": [
    "# Lesson 6: NumPy Random Module\n",
    "\n",
    "# 1. Random Integers — np.random.randint()\n",
    "import numpy as np\n",
    "\n",
    "# Random integers between 1 and 10 (excluding 10)\n",
    "arr = np.random.randint(1, 10, size=(2, 3))\n",
    "print(\"Random Integers:\\n\", arr)\n"
   ]
  },
  {
   "cell_type": "code",
   "execution_count": 69,
   "id": "b837e33c",
   "metadata": {},
   "outputs": [
    {
     "name": "stdout",
     "output_type": "stream",
     "text": [
      "rand(): [[0.25597262 0.54578009]\n",
      " [0.30705459 0.01977755]]\n",
      "randn(): [[0.82918073 0.05729263]\n",
      " [1.14714796 0.01205908]]\n"
     ]
    }
   ],
   "source": [
    "# 2. Random Floats — np.random.rand() & np.random.randn()\n",
    "\n",
    "print(\"rand():\", np.random.rand(2, 2))   # 0 to 1, uniform distribution\n",
    "print(\"randn():\", np.random.randn(2, 2)) # mean=0, std=1, normal distribution\n"
   ]
  },
  {
   "cell_type": "code",
   "execution_count": null,
   "id": "2df7dc18",
   "metadata": {},
   "outputs": [
    {
     "name": "stdout",
     "output_type": "stream",
     "text": [
      "[52 93 15 72 61]\n"
     ]
    }
   ],
   "source": [
    "# 3. Seeding — np.random.seed()\n",
    "# Use this to get same results every time\n",
    "\n",
    "np.random.seed(42)\n",
    "print(np.random.randint(1, 100, 5))\n"
   ]
  },
  {
   "cell_type": "code",
   "execution_count": 75,
   "id": "51927384",
   "metadata": {},
   "outputs": [
    {
     "name": "stdout",
     "output_type": "stream",
     "text": [
      "Shuffled: [5 4 1 2 3]\n"
     ]
    }
   ],
   "source": [
    "# 4. Shuffle Data — np.random.shuffle()\n",
    "arr = np.array([1, 2, 3, 4, 5])\n",
    "np.random.shuffle(arr)\n",
    "print(\"Shuffled:\", arr)\n"
   ]
  },
  {
   "cell_type": "code",
   "execution_count": 77,
   "id": "9714c743",
   "metadata": {},
   "outputs": [
    {
     "name": "stdout",
     "output_type": "stream",
     "text": [
      "Random choice: [40 30 10]\n"
     ]
    }
   ],
   "source": [
    "# 5. Random Choice — np.random.choice()\n",
    "\n",
    "choices = np.random.choice([10, 20, 30, 40], size=3, replace=False)\n",
    "print(\"Random choice:\", choices)\n"
   ]
  },
  {
   "cell_type": "code",
   "execution_count": 78,
   "id": "10252ae6",
   "metadata": {},
   "outputs": [
    {
     "name": "stdout",
     "output_type": "stream",
     "text": [
      "Mask: [False False False  True  True]\n"
     ]
    }
   ],
   "source": [
    "# Lesson 7: Boolean Masking in NumPy\n",
    "\n",
    "# 1. Create a Condition-Based Mask\n",
    "import numpy as np\n",
    "\n",
    "arr = np.array([10, 15, 20, 25, 30])\n",
    "mask = arr > 20\n",
    "print(\"Mask:\", mask)  # [False False False  True  True]\n"
   ]
  },
  {
   "cell_type": "code",
   "execution_count": 80,
   "id": "b1b496b3",
   "metadata": {},
   "outputs": [
    {
     "name": "stdout",
     "output_type": "stream",
     "text": [
      "Filtered: [25 30]\n",
      "Inline filter: [25 30]\n"
     ]
    }
   ],
   "source": [
    "# 2. Use Mask to Filter Data\n",
    "filtered = arr[mask]\n",
    "print(\"Filtered:\", filtered)  # [25 30]\n",
    "# or\n",
    "print(\"Inline filter:\", arr[arr > 20])  # [25 30]\n",
    "\n"
   ]
  },
  {
   "cell_type": "code",
   "execution_count": 81,
   "id": "5dfdf7d2",
   "metadata": {},
   "outputs": [
    {
     "name": "stdout",
     "output_type": "stream",
     "text": [
      "a > 20: [False False  True  True  True]\n",
      "a < 50: [ True  True  True  True False]\n",
      "(a > 20) & (a < 50): [False False  True  True False]\n",
      "(a < 20) | (a > 40): [ True False False False  True]\n"
     ]
    }
   ],
   "source": [
    "# 3. Logical Operations\n",
    "\n",
    "a = np.array([10, 20, 30, 40, 50])\n",
    "\n",
    "print(\"a > 20:\", a > 20)\n",
    "print(\"a < 50:\", a < 50)\n",
    "print(\"(a > 20) & (a < 50):\", (a > 20) & (a < 50))  # AND\n",
    "print(\"(a < 20) | (a > 40):\", (a < 20) | (a > 40))  # OR\n"
   ]
  },
  {
   "cell_type": "code",
   "execution_count": null,
   "id": "98aac0ff",
   "metadata": {},
   "outputs": [
    {
     "name": "stdout",
     "output_type": "stream",
     "text": [
      "Updated a: [ 10  20 100 100 100]\n"
     ]
    }
   ],
   "source": [
    "#  4. Conditional Update (Vectorized if)\n",
    "\n",
    "a[a > 25] = 100\n",
    "print(\"Updated a:\", a)\n",
    "# No loops needed! It directly updates where condition is True\n"
   ]
  },
  {
   "cell_type": "code",
   "execution_count": null,
   "id": "2a163e22",
   "metadata": {},
   "outputs": [
    {
     "name": "stdout",
     "output_type": "stream",
     "text": [
      "['Low' 'Low' 'High' 'High' 'High']\n"
     ]
    }
   ],
   "source": [
    "# 5. np.where() for if-else\n",
    "\n",
    "a = np.array([10, 20, 30, 40, 50])\n",
    "\n",
    "result = np.where(a > 25, \"High\", \"Low\")\n",
    "print(result)               # ['Low' 'Low' 'High' 'High' 'High']\n"
   ]
  },
  {
   "cell_type": "code",
   "execution_count": 84,
   "id": "e37ed37b",
   "metadata": {},
   "outputs": [
    {
     "name": "stdout",
     "output_type": "stream",
     "text": [
      "Any > 3? True\n",
      "All > 0? True\n",
      "All > 3? False\n"
     ]
    }
   ],
   "source": [
    "# 6. np.any() and np.all()\n",
    "a = np.array([1, 2, 3, 4, 5])\n",
    "\n",
    "print(\"Any > 3?\", np.any(a > 3))    # True\n",
    "print(\"All > 0?\", np.all(a > 0))    # True\n",
    "print(\"All > 3?\", np.all(a > 3))    # False\n"
   ]
  },
  {
   "cell_type": "code",
   "execution_count": 1,
   "id": "6e4f4de5",
   "metadata": {},
   "outputs": [
    {
     "name": "stdout",
     "output_type": "stream",
     "text": [
      "Reshaped:\n",
      " [[1 2 3]\n",
      " [4 5 6]]\n"
     ]
    }
   ],
   "source": [
    "# Lesson 8: Reshape, Stack, Split\n",
    "\n",
    "# 1. Reshape Review\n",
    "import numpy as np\n",
    "\n",
    "a = np.array([1, 2, 3, 4, 5, 6])\n",
    "reshaped = a.reshape(2, 3)\n",
    "print(\"Reshaped:\\n\", reshaped)\n"
   ]
  },
  {
   "cell_type": "code",
   "execution_count": 2,
   "id": "0f659557",
   "metadata": {},
   "outputs": [
    {
     "name": "stdout",
     "output_type": "stream",
     "text": [
      "vstack:\n",
      " [[1 2 3]\n",
      " [4 5 6]]\n"
     ]
    }
   ],
   "source": [
    "# Stacking Arrays\n",
    "# 2. Vertical Stacking — np.vstack()\n",
    "\n",
    "a = np.array([1, 2, 3])\n",
    "b = np.array([4, 5, 6])\n",
    "\n",
    "v = np.vstack((a, b))\n",
    "print(\"vstack:\\n\", v)\n"
   ]
  },
  {
   "cell_type": "code",
   "execution_count": 3,
   "id": "6d9ea8e9",
   "metadata": {},
   "outputs": [
    {
     "name": "stdout",
     "output_type": "stream",
     "text": [
      "hstack:\n",
      " [[1 4]\n",
      " [2 5]\n",
      " [3 6]]\n"
     ]
    }
   ],
   "source": [
    "# 3. Horizontal Stacking — np.hstack()\n",
    "\n",
    "a = np.array([[1],[2],[3]])\n",
    "b = np.array([[4],[5],[6]])\n",
    "\n",
    "h = np.hstack((a,b))\n",
    "print(\"hstack:\\n\",h)"
   ]
  },
  {
   "cell_type": "code",
   "execution_count": null,
   "id": "b852b5f0",
   "metadata": {},
   "outputs": [
    {
     "name": "stdout",
     "output_type": "stream",
     "text": [
      "Column Stack:\n",
      " [[10  1]\n",
      " [20  2]\n",
      " [30  3]]\n"
     ]
    }
   ],
   "source": [
    "# 4. Column Stack — np.column_stack()\n",
    "\n",
    "x = np.array([10,20,30])\n",
    "y = np.array([1,2,3])\n",
    "print(\"Column Stack:\\n\",np.column_stack((x,y)))\n",
    "# Converts 1D arrays into columns of a 2D array"
   ]
  },
  {
   "cell_type": "code",
   "execution_count": null,
   "id": "539549ce",
   "metadata": {},
   "outputs": [],
   "source": [
    "# Splitting Arrays\n",
    "\n",
    "a = np.array([[1,2,3,4],\n",
    "              [5,6,7,8]])\n",
    "left,right = np.hsplit(a,2)\n",
    "print(\"Left:\\n\",left)\n",
    "print(\"Right:\\n\",right)"
   ]
  },
  {
   "cell_type": "code",
   "execution_count": 5,
   "id": "b08c71b2",
   "metadata": {},
   "outputs": [
    {
     "name": "stdout",
     "output_type": "stream",
     "text": [
      "Top:\n",
      " [[1 2]\n",
      " [3 4]]\n",
      "Bottom:\n",
      " [[5 6]\n",
      " [7 8]]\n"
     ]
    }
   ],
   "source": [
    "# 6. np.vsplit() — Vertical Split\n",
    "\n",
    "a = np.array([[1, 2],\n",
    "              [3, 4],\n",
    "              [5, 6],\n",
    "              [7, 8]])\n",
    "\n",
    "top, bottom = np.vsplit(a, 2)  # Split into 2 rows\n",
    "print(\"Top:\\n\", top)\n",
    "print(\"Bottom:\\n\", bottom)\n"
   ]
  },
  {
   "cell_type": "code",
   "execution_count": null,
   "id": "8fb09b59",
   "metadata": {},
   "outputs": [
    {
     "name": "stdout",
     "output_type": "stream",
     "text": [
      "Dot Product:\n",
      " [[19 22]\n",
      " [43 50]]\n"
     ]
    }
   ],
   "source": [
    "# Lesson 9: Matrix Operations\n",
    "\n",
    "#  1. Matrix Multiplication — np.dot() / @\n",
    "\n",
    "import numpy as np\n",
    "\n",
    "A = np.array([[1, 2],\n",
    "              [3, 4]])\n",
    "B = np.array([[5, 6],\n",
    "              [7, 8]])\n",
    "\n",
    "dot1 = np.dot(A, B)  # Method 1      (m × n) × (n × p) → (m × p)  row x column\n",
    "dot2 = A @ B         # Method 2 (Python 3.5+)\n",
    "\n",
    "print(\"Dot Product:\\n\", dot1)\n"
   ]
  },
  {
   "cell_type": "code",
   "execution_count": 7,
   "id": "63f0f0c6",
   "metadata": {},
   "outputs": [
    {
     "name": "stdout",
     "output_type": "stream",
     "text": [
      "Element-wise:\n",
      " [[ 5 12]\n",
      " [21 32]]\n"
     ]
    }
   ],
   "source": [
    "# 2. Element-wise Multiplication — *\n",
    "\n",
    "print(\"Element-wise:\\n\", A * B)\n"
   ]
  },
  {
   "cell_type": "code",
   "execution_count": null,
   "id": "6661c9e3",
   "metadata": {},
   "outputs": [
    {
     "name": "stdout",
     "output_type": "stream",
     "text": [
      "Transpose of A:\n",
      " [[1 3]\n",
      " [2 4]]\n"
     ]
    }
   ],
   "source": [
    "# 3. Transpose — .T\n",
    "print(\"Transpose of A:\\n\", A.T)     # Flips rows & columns."
   ]
  },
  {
   "cell_type": "code",
   "execution_count": 9,
   "id": "ce3ee67b",
   "metadata": {},
   "outputs": [
    {
     "name": "stdout",
     "output_type": "stream",
     "text": [
      "Determinant of A: -2.0000000000000004\n"
     ]
    }
   ],
   "source": [
    "# 4. Determinant — np.linalg.det()\n",
    "det = np.linalg.det(A)\n",
    "print(\"Determinant of A:\", det)\n"
   ]
  },
  {
   "cell_type": "code",
   "execution_count": 10,
   "id": "de1e6581",
   "metadata": {},
   "outputs": [
    {
     "name": "stdout",
     "output_type": "stream",
     "text": [
      "Inverse of A:\n",
      " [[-2.   1. ]\n",
      " [ 1.5 -0.5]]\n"
     ]
    }
   ],
   "source": [
    "# 5. Inverse — np.linalg.inv()\n",
    "inv_A = np.linalg.inv(A)\n",
    "print(\"Inverse of A:\\n\", inv_A)\n"
   ]
  },
  {
   "cell_type": "code",
   "execution_count": 11,
   "id": "9775b53a",
   "metadata": {},
   "outputs": [
    {
     "name": "stdout",
     "output_type": "stream",
     "text": [
      "Identity:\n",
      " [[1. 0. 0.]\n",
      " [0. 1. 0.]\n",
      " [0. 0. 1.]]\n"
     ]
    }
   ],
   "source": [
    "# 6. Identity Matrix — np.eye()\n",
    "I = np.eye(3)  # 3x3 Identity\n",
    "print(\"Identity:\\n\", I)\n"
   ]
  },
  {
   "cell_type": "code",
   "execution_count": 12,
   "id": "08ff4ab6",
   "metadata": {},
   "outputs": [
    {
     "name": "stdout",
     "output_type": "stream",
     "text": [
      "Mean: 3.0\n"
     ]
    }
   ],
   "source": [
    "# Lesson 10: Statistics Operations\n",
    "\n",
    "# Mean — np.mean()\n",
    "\n",
    "import numpy as np\n",
    "\n",
    "arr = np.array([1, 2, 3, 4, 5])\n",
    "print(\"Mean:\", np.mean(arr))  # (1+2+3+4+5) / 5 = 3.0\n"
   ]
  },
  {
   "cell_type": "code",
   "execution_count": 16,
   "id": "06c0d196",
   "metadata": {},
   "outputs": [
    {
     "name": "stdout",
     "output_type": "stream",
     "text": [
      "Median: 3.0\n",
      "Standard Deviation: 1.4142135623730951\n",
      "Variance: 2.0\n",
      "Min: 1\n",
      "Max: 5\n"
     ]
    }
   ],
   "source": [
    "# Median — np.median()\n",
    "\n",
    "print(\"Median:\", np.median(arr))  # Middle value after sorting\n",
    "print(\"Standard Deviation:\", np.std(arr))\n",
    "print(\"Variance:\", np.var(arr))\n",
    "print(\"Min:\", np.min(arr))\n",
    "print(\"Max:\", np.max(arr))\n"
   ]
  },
  {
   "cell_type": "code",
   "execution_count": null,
   "id": "3fcec8a9",
   "metadata": {},
   "outputs": [
    {
     "name": "stdout",
     "output_type": "stream",
     "text": [
      "25th percentile: 4.5\n",
      "50th percentile (median): 6.0\n",
      "75th percentile: 7.5\n"
     ]
    }
   ],
   "source": [
    "# Percentiles — np.percentile()\n",
    "\n",
    "data = np.array([7, 8, 5, 6, 3, 4, 9])\n",
    "\n",
    "print(\"25th percentile:\", np.percentile(data, 25))\n",
    "print(\"50th percentile (median):\", np.percentile(data, 50))\n",
    "print(\"75th percentile:\", np.percentile(data, 75))"
   ]
  },
  {
   "cell_type": "code",
   "execution_count": 17,
   "id": "3d6449eb",
   "metadata": {},
   "outputs": [
    {
     "name": "stdout",
     "output_type": "stream",
     "text": [
      "Random Integers:\n",
      " [[5 9 7]\n",
      " [1 4 3]]\n"
     ]
    }
   ],
   "source": [
    "#  Lesson 11: NumPy Random Functions\n",
    "\n",
    "# np.random.randint() — Random Integers\n",
    "\n",
    "import numpy as np\n",
    "\n",
    "# Integers between 1 (inclusive) and 10 (exclusive)\n",
    "ints = np.random.randint(1, 10, size=(2, 3))\n",
    "print(\"Random Integers:\\n\", ints)\n"
   ]
  },
  {
   "cell_type": "code",
   "execution_count": null,
   "id": "5a5c35d1",
   "metadata": {},
   "outputs": [],
   "source": []
  },
  {
   "cell_type": "code",
   "execution_count": null,
   "id": "b1042ef1",
   "metadata": {},
   "outputs": [],
   "source": []
  }
 ],
 "metadata": {
  "kernelspec": {
   "display_name": "venv",
   "language": "python",
   "name": "python3"
  },
  "language_info": {
   "codemirror_mode": {
    "name": "ipython",
    "version": 3
   },
   "file_extension": ".py",
   "mimetype": "text/x-python",
   "name": "python",
   "nbconvert_exporter": "python",
   "pygments_lexer": "ipython3",
   "version": "3.12.5"
  }
 },
 "nbformat": 4,
 "nbformat_minor": 5
}
